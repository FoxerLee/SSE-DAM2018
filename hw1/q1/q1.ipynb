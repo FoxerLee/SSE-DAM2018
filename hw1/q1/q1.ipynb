{
 "cells": [
  {
   "cell_type": "code",
   "execution_count": 2,
   "metadata": {},
   "outputs": [],
   "source": [
    "from lshash.lshash import LSHash\n",
    "import pandas as pd\n",
    "import numpy as np\n",
    "np.set_printoptions(threshold=np.inf)\n",
    "\n",
    "datas = pd.read_csv('trade.csv', usecols=['vipno', 'pluno', 'amt'])\n",
    "\n",
    "# 利用pandas的groupby函数做聚合运算\n",
    "amts_set = datas.groupby([datas['vipno'], datas['pluno']], as_index = False).agg({'amt': sum})\n",
    "# 修改DataFrame的列中数据格式为object，否则后面输出会将vipno和pluno转换为float64\n",
    "amts_set[['vipno', 'pluno']] = amts_set[['vipno', 'pluno']].astype('object')\n",
    "\n",
    "# 将vipno和pluno提取出来然后去重，新建一个矩阵\n",
    "datas_set = pd.DataFrame(0, index=list(set(datas['pluno'])), columns=list(set(datas['vipno'])))\n",
    "\n",
    "# 根据行列索引将获得的聚合值放入矩阵当中，并且在放入前进行四舍五入\n",
    "for index, row in amts_set.iterrows():\n",
    "    af = np.floor(row['amt'])\n",
    "    ad = row['amt'] - af\n",
    "    if ad >= 0.5:\n",
    "        af = af + 1\n",
    "    datas_set.loc[row['pluno'], [row['vipno']]] = int(af)"
   ]
  },
  {
   "cell_type": "code",
   "execution_count": 3,
   "metadata": {},
   "outputs": [],
   "source": [
    "# print(datas_set)\n",
    "datas_set.to_csv('test2.csv')"
   ]
  },
  {
   "cell_type": "code",
   "execution_count": 4,
   "metadata": {},
   "outputs": [
    {
     "name": "stdout",
     "output_type": "stream",
     "text": [
      "<lshash.lshash.LSHash object at 0x116214278>\n"
     ]
    }
   ],
   "source": [
    "lsh = LSHash(len(vipno)*0.01, 2)\n"
   ]
  },
  {
   "cell_type": "code",
   "execution_count": 11,
   "metadata": {},
   "outputs": [
    {
     "name": "stdout",
     "output_type": "stream",
     "text": [
      "3\n"
     ]
    }
   ],
   "source": [
    "a=2.5\n",
    "af= np.floor(a)\n",
    "ad = a-af\n",
    "if ad <0.5:\n",
    "    print(int(af))\n",
    "else:\n",
    "    print(int(af+1))"
   ]
  },
  {
   "cell_type": "code",
   "execution_count": null,
   "metadata": {},
   "outputs": [],
   "source": []
  }
 ],
 "metadata": {
  "kernelspec": {
   "display_name": "Python 3",
   "language": "python",
   "name": "python3"
  },
  "language_info": {
   "codemirror_mode": {
    "name": "ipython",
    "version": 3
   },
   "file_extension": ".py",
   "mimetype": "text/x-python",
   "name": "python",
   "nbconvert_exporter": "python",
   "pygments_lexer": "ipython3",
   "version": "3.6.4"
  }
 },
 "nbformat": 4,
 "nbformat_minor": 1
}
